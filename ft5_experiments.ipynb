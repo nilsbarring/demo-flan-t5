{
 "cells": [
  {
   "cell_type": "code",
   "execution_count": 2,
   "metadata": {},
   "outputs": [
    {
     "name": "stderr",
     "output_type": "stream",
     "text": [
      "/home/ubuntu/flan_t5_llm/t5_env/lib/python3.8/site-packages/tqdm/auto.py:21: TqdmWarning: IProgress not found. Please update jupyter and ipywidgets. See https://ipywidgets.readthedocs.io/en/stable/user_install.html\n",
      "  from .autonotebook import tqdm as notebook_tqdm\n"
     ]
    }
   ],
   "source": [
    "from transformers import AutoModelForSeq2SeqLM, AutoTokenizer"
   ]
  },
  {
   "cell_type": "code",
   "execution_count": 7,
   "metadata": {},
   "outputs": [],
   "source": [
    "model = AutoModelForSeq2SeqLM.from_pretrained(\"google/flan-t5-large\")\n",
    "tokenizer = AutoTokenizer.from_pretrained(\"google/flan-t5-large\")"
   ]
  },
  {
   "cell_type": "code",
   "execution_count": 8,
   "metadata": {},
   "outputs": [
    {
     "data": {
      "text/plain": [
       "('./models/tokenizer_config.json',\n",
       " './models/special_tokens_map.json',\n",
       " './models/tokenizer.json')"
      ]
     },
     "execution_count": 8,
     "metadata": {},
     "output_type": "execute_result"
    }
   ],
   "source": [
    "model.save_pretrained(\"./models/\")\n",
    "tokenizer.save_pretrained(\"./models/\")"
   ]
  },
  {
   "cell_type": "code",
   "execution_count": 16,
   "metadata": {},
   "outputs": [
    {
     "name": "stdout",
     "output_type": "stream",
     "text": [
      "input {'input_ids': tensor([[13959,    48,  8986,    45, 20609,    12, 22269,    10,   325,  5222,\n",
      "           205,    18, 21298,   259,   245,  9820,   285,   142,     3, 19694,\n",
      "          5398,   260,  1394,  7357, 31612,    15,     7,     5,   531,    17,\n",
      "           721,     3,    26,    31,   202, 13670, 26582,     3,    15,    17,\n",
      "         10899,     6,     3,   693,  7616,   245, 13389,    15, 20969,     3,\n",
      "            15,    17,  1417,  6645,     6,   197,   285,   259, 13220,   171,\n",
      "            50, 13389,    15,     3,    35,     3,  1420,  2236,   238,   171,\n",
      "           110,   307,     7, 29808,     7,   244,     3,    40,    31,  8010,\n",
      "         20300,     5,  1138, 17035,    20, 31683,   259,  2220, 29860,     6,\n",
      "             3, 17111,    20,    50,   205,    18, 21298,   245,  1182, 10040,\n",
      "             5,   374,   303,     6,     3,  6160,     3,    85,  1394,  2896,\n",
      "         25780,    15,     7,     6,  1011,    90,  4870,    20, 10418,    20,\n",
      "         11079,   154,     6,    50,  5222,   205,    18, 21298, 13990,    17,\n",
      "           529,  7885,    93,  7357,    20,  7438,  5881,     6,   971,  1292,\n",
      "           245,  7413, 13393,    15,   171,  1739,   110,  5454,    52,     7,\n",
      "             5,   695,     3,     7,  7649,     6,    50,  5222,   205,    18,\n",
      "         21298,   259,    50, 30804, 12981,    15,    20,  7357, 27764,     7,\n",
      "             3,    15,    17,    20,   408,  7456,     5,     1]]), 'attention_mask': tensor([[1, 1, 1, 1, 1, 1, 1, 1, 1, 1, 1, 1, 1, 1, 1, 1, 1, 1, 1, 1, 1, 1, 1, 1,\n",
      "         1, 1, 1, 1, 1, 1, 1, 1, 1, 1, 1, 1, 1, 1, 1, 1, 1, 1, 1, 1, 1, 1, 1, 1,\n",
      "         1, 1, 1, 1, 1, 1, 1, 1, 1, 1, 1, 1, 1, 1, 1, 1, 1, 1, 1, 1, 1, 1, 1, 1,\n",
      "         1, 1, 1, 1, 1, 1, 1, 1, 1, 1, 1, 1, 1, 1, 1, 1, 1, 1, 1, 1, 1, 1, 1, 1,\n",
      "         1, 1, 1, 1, 1, 1, 1, 1, 1, 1, 1, 1, 1, 1, 1, 1, 1, 1, 1, 1, 1, 1, 1, 1,\n",
      "         1, 1, 1, 1, 1, 1, 1, 1, 1, 1, 1, 1, 1, 1, 1, 1, 1, 1, 1, 1, 1, 1, 1, 1,\n",
      "         1, 1, 1, 1, 1, 1, 1, 1, 1, 1, 1, 1, 1, 1, 1, 1, 1, 1, 1, 1, 1, 1, 1, 1,\n",
      "         1, 1, 1, 1, 1, 1, 1, 1, 1, 1]])}\n"
     ]
    }
   ],
   "source": [
    "# Tokenize input text\n",
    "#input_text = \"what is love?\"\n",
    "#input_text = \"if my name is Nils what is my name?\"\n",
    "#input_text = \"write a story about a car called polo who struggles at work\"\n",
    "#input_text = \"translate this word from french to english: je suis dans un cafe a Porto\"\n",
    "input_text = \"translate this paragraph from french to english: La Ford C-Max est une voiture qui se distingue par ses performances impressionnantes. Dotée d'un moteur puissant et efficace, elle offre une conduite douce et réactive, ce qui est idéal pour la conduite en ville ainsi que pour les longs trajets sur l'autoroute. Sa consommation de carburant est également remarquable, faisant de la C-Max une option économique. De plus, grâce à ses technologies innovantes, comme le système de contrôle de stabilité, la Ford C-Max garantit non seulement des performances de haut niveau, mais aussi une sécurité maximale pour tous les passagers. En somme, la Ford C-Max est la combinaison parfaite de performances exceptionnelles et de design moderne.\"\n",
    "#input_text = \"write a 400 word long story about a french chef called Bernard who opened a restaurant in Paris but became bankrupt due to the lack of costumers caused by the french revolution\"\n",
    "#input_text = \"tell me if this is a metaphore: Life is a roller coaster, filled with ups and downs, unexpected turns, and moments of breathtaking excitement\"\n",
    "#input_text = \"tell me if this is a metaphore: hello my name is John\"\n",
    "#input_text = \"can you give me the definition of a metaphore?\"\n",
    "#input_text = \"what was the latest output?\"\n",
    "inputs = tokenizer(input_text, return_tensors='pt')\n",
    "\n",
    "print(\"input\", inputs)"
   ]
  },
  {
   "cell_type": "code",
   "execution_count": 17,
   "metadata": {},
   "outputs": [
    {
     "name": "stdout",
     "output_type": "stream",
     "text": [
      "outputs tensor([[    0,    37,  5222,   205,    18, 21298,    19,     3,     9,   443,\n",
      "            24,  5024,    91,    21,   165,  4423,   821,     5,   438,     3,\n",
      "             9,  2021,    11,  2918,  1948,     6,    34,   704,  3050,    11,\n",
      "         10586,  2191,     6,    84,    19,  1523,    21,   690,  2191,    38,\n",
      "           168,    38,   307, 10367,  6846,     5,    94,     7,  2914,  2717,\n",
      "            19,    92,  8562,     6,   492,     8,   205,    18, 21298,    46,\n",
      "         18863,  1182,     5,    86,   811,     6,  2049,    12,   165,  3058,\n",
      "          2896,     6,   224,    38,     8,  7606,   610,   358,     6,     8,\n",
      "          5222,   205,    18, 21298, 16935,    59,   163,   306,   821,     6,\n",
      "            68,    92,  2411,  1455,    21,    66,  9234,     5,    86,    66,\n",
      "             6,     8,  5222,   205,    18, 21298,    19,     8,   626,  2711,\n",
      "            13,  5916,   821,    11,   941,   408,     5,     1]])\n"
     ]
    }
   ],
   "source": [
    "# Run model\n",
    "outputs = model.generate(**inputs, max_new_tokens=1000)\n",
    "\n",
    "print('outputs', outputs)"
   ]
  },
  {
   "cell_type": "code",
   "execution_count": 18,
   "metadata": {},
   "outputs": [],
   "source": [
    "translated_text = tokenizer.decode(outputs[0])"
   ]
  },
  {
   "cell_type": "code",
   "execution_count": 19,
   "metadata": {},
   "outputs": [
    {
     "data": {
      "text/plain": [
       "'<pad> The Ford C-Max is a car that stands out for its impressive performance. With a powerful and efficient engine, it offers smooth and responsive driving, which is ideal for city driving as well as long highway trips. Its fuel economy is also remarkable, making the C-Max an economical option. In addition, thanks to its innovative technologies, such as the stability control system, the Ford C-Max guarantees not only high performance, but also maximum safety for all passengers. In all, the Ford C-Max is the perfect combination of exceptional performance and modern design.</s>'"
      ]
     },
     "execution_count": 19,
     "metadata": {},
     "output_type": "execute_result"
    }
   ],
   "source": [
    "translated_text"
   ]
  },
  {
   "cell_type": "code",
   "execution_count": 52,
   "metadata": {},
   "outputs": [
    {
     "name": "stdout",
     "output_type": "stream",
     "text": [
      "Tableau\n"
     ]
    }
   ],
   "source": [
    "# Decode output\n",
    "decoded_output = tokenizer.decode(outputs[0], skip_special_tokens=True)\n",
    "print(decoded_output)"
   ]
  },
  {
   "attachments": {},
   "cell_type": "markdown",
   "metadata": {},
   "source": [
    "Resource: \n",
    "Flan-T5 fine tuning on different hardware: https://www.philschmid.de/fine-tune-flan-t5-deepspeed\n"
   ]
  },
  {
   "attachments": {},
   "cell_type": "markdown",
   "metadata": {},
   "source": [
    "https://huggingface.co/lmsys/fastchat-t5-3b-v1.0\n"
   ]
  }
 ],
 "metadata": {
  "kernelspec": {
   "display_name": "t5_env",
   "language": "python",
   "name": "python3"
  },
  "language_info": {
   "codemirror_mode": {
    "name": "ipython",
    "version": 3
   },
   "file_extension": ".py",
   "mimetype": "text/x-python",
   "name": "python",
   "nbconvert_exporter": "python",
   "pygments_lexer": "ipython3",
   "version": "3.8.10"
  },
  "orig_nbformat": 4
 },
 "nbformat": 4,
 "nbformat_minor": 2
}
